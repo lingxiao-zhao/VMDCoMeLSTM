{
 "cells": [
  {
   "cell_type": "code",
   "execution_count": null,
   "id": "8d31eecd",
   "metadata": {},
   "outputs": [],
   "source": [
    "import numpy as np  \n",
    "import matplotlib.pyplot as plt  \n",
    "from vmdpy import VMD  \n",
    "import pandas as pd\n",
    "from scipy.fftpack import fft"
   ]
  },
  {
   "cell_type": "code",
   "execution_count": null,
   "id": "6bf9f1ee",
   "metadata": {},
   "outputs": [],
   "source": [
    "# Load the Excel file\n",
    "filename = '\\Runoff_SHENYANG.xlsx'\n",
    "# Read the desired column from the Excel file\n",
    "f = pd.read_excel(filename, usecols=[3])\n",
    "# Plot the data\n",
    "plt.plot(f.values)\n",
    "plt.show()\n",
    "print(np.min(f.values))\n",
    "# 输出该列的数据数量\n",
    "print(\"数据总数：\", len(f.values))\n",
    "print(f.values)"
   ]
  },
  {
   "cell_type": "code",
   "execution_count": null,
   "id": "3871b340",
   "metadata": {},
   "outputs": [],
   "source": [
    "import pandas as pd\n",
    "import numpy as np\n",
    "import matplotlib.pyplot as plt\n",
    "\n",
    "filename = '\\Runoff_SHENYANG.xlsx'\n",
    "# Read the desired column from the Excel file\n",
    "f = pd.read_excel(filename, usecols=[3])\n",
    "# 过滤掉值为 0 和 NaN 的数据\n",
    "f_filtered = f[(f.values != 0) & (~pd.isna(f.values))]\n",
    "# Set font to Times New Roman globally\n",
    "plt.rcParams['font.family'] = 'Times New Roman'\n",
    "# 设置画布大小\n",
    "fig = plt.figure(figsize=(12, 2), dpi=200)  # 可以根据需要调整宽度和高度\n",
    "\n",
    "# Add a global label for the y-axis (Streamflow)\n",
    "fig.text(0.08, 0.5, 'Streamflow (m³/day)', fontsize=10, va='center', rotation='vertical')\n",
    "# Add a global label for the x-axis (Times)\n",
    "fig.text(0.5, -0.05, 'Times (day)', fontsize=10, ha='center')\n",
    "\n",
    "plt.plot(f_filtered.values, c='#08D0FC')\n",
    "plt.show()\n",
    "\n",
    "print(\"最小值：\", np.min(f_filtered.values))\n",
    "print(\"过滤后数据总数：\", len(f_filtered))\n"
   ]
  },
  {
   "cell_type": "code",
   "execution_count": null,
   "id": "cee1c069",
   "metadata": {},
   "outputs": [],
   "source": [
    "alpha = 26000        # moderate bandwidth constraint  \n",
    "tau = 0.3            # noise-tolerance (no strict fidelity enforcement)  \n",
    "K = 14               # 14 modes  \n",
    "DC = 0               # no DC part imposed  \n",
    "init = 1             # initialize omegas uniformly  \n",
    "tol = 1e-7  \n",
    "\"\"\"  \n",
    "alpha、tau、K、DC、init、tol 六个输入参数的无严格要求； \n",
    "alpha 带宽限制 经验取值为 抽样点长度 1.5-2.0 倍； \n",
    "tau 噪声容限 ；\n",
    "K 分解模态（IMF）个数； \n",
    "DC 合成信号若无常量，取值为 0；若含常量，则其取值为 1； \n",
    "init 初始化 w 值，当初始化为 1 时，均匀分布产生的随机数； \n",
    "tol 控制误差大小常量，决定精度与迭代次数\n",
    "\"\"\""
   ]
  },
  {
   "cell_type": "code",
   "execution_count": null,
   "id": "84a442ed",
   "metadata": {},
   "outputs": [],
   "source": [
    "u, u_hat, omega = VMD(f.values, alpha, tau, K, DC, init, tol)  \n",
    "plt.figure()\n",
    "\n",
    "plt.plot(u.T)\n",
    "plt.title('Decomposed modes')"
   ]
  },
  {
   "cell_type": "code",
   "execution_count": null,
   "id": "fba2ad4f",
   "metadata": {},
   "outputs": [],
   "source": [
    "print(f.shape)"
   ]
  },
  {
   "cell_type": "code",
   "execution_count": null,
   "id": "a9f36b64",
   "metadata": {},
   "outputs": [],
   "source": [
    "print(u.shape)"
   ]
  },
  {
   "cell_type": "code",
   "execution_count": null,
   "id": "5ee7adfb",
   "metadata": {},
   "outputs": [],
   "source": [
    "fig1 = plt.figure()\n",
    "#plt.plot(f.values)\n",
    "\n",
    "fig1.suptitle('Original input signal and its components')\n"
   ]
  },
  {
   "cell_type": "code",
   "execution_count": null,
   "id": "b14a540c",
   "metadata": {},
   "outputs": [],
   "source": [
    "# Set font to Times New Roman globally\n",
    "plt.rcParams['font.family'] = 'Times New Roman'\n",
    "# Create a figure and set of subplots\n",
    "fig, axs = plt.subplots(K, 1, figsize=(7, 7), dpi=200)  # Increase figure height for readability\n",
    "# Loop through each subplot\n",
    "for i in range(K):\n",
    "    axs[i].plot(u[i, :], linewidth=0.5, c='#08D0FC')  # Thicker line\n",
    "    axs[i].set_ylabel(f'IMF{i+1}', fontsize=6, rotation=0, va='center')\n",
    "    axs[i].tick_params(labelsize=6)  # Adjust tick label size\n",
    "    # Manually align the ylabel positions\n",
    "    axs[i].yaxis.set_label_coords(-0.06, 0.5)  # Set the position of the label to the same value for all plots\n",
    "    if i < K - 1:  # For all subplots except the last one\n",
    "         axs[i].tick_params(labelbottom=False, bottom=False)  # Hide x-axis labels\n",
    "# Add a global label for the y-axis (Streamflow)\n",
    "fig.text(0.04, 0.5, 'Streamflow (m³/day)', fontsize=8, va='center', rotation='vertical')\n",
    "# Add a global label for the x-axis (Times)\n",
    "fig.text(0.5, 0.07, 'Times (day)', fontsize=8, ha='center')\n",
    "# Remove spaces between plots by adjusting subplots layout\n",
    "plt.subplots_adjust(hspace=0.2)\n",
    "# Show the figure\n",
    "plt.show()"
   ]
  },
  {
   "cell_type": "code",
   "execution_count": null,
   "id": "e5add432",
   "metadata": {},
   "outputs": [],
   "source": [
    "# Set font to Times New Roman globally\n",
    "plt.rcParams['font.family'] = 'Times New Roman'\n",
    "# Create a figure and set of subplots\n",
    "fig, axs = plt.subplots(K, 1, figsize=(7/2, 7), dpi=200)  # Increase figure height for readability\n",
    "# Loop through each subplot\n",
    "for i in range(K):\n",
    "    fft_result = np.abs(np.fft.fft(u[i, :]))  # Compute the FFT\n",
    "    half_fft_result = fft_result[:len(fft_result) // 2]  # Take the left half of the FFT result\n",
    "    axs[i].plot(half_fft_result, linewidth=0.5, c='#08D0FC')  # Thicker line for left half of FFT\n",
    "    # axs[i].plot(abs(fft(u[i,:])), linewidth=0.5, c='#FF5733')  # Thicker line\n",
    "    axs[i].set_ylabel(f'IMF{i+1}', fontsize=6, rotation=0, va='center')\n",
    "    axs[i].tick_params(labelsize=6)  # Adjust tick label size\n",
    "    # Manually align the ylabel positions\n",
    "    axs[i].yaxis.set_label_coords(-0.15, 0.5)  # Set the position of the label to the same value for all plots\n",
    "    if i < K - 1:  # For all subplots except the last one\n",
    "         axs[i].tick_params(labelbottom=False, bottom=False)  # Hide x-axis labels\n",
    "# Add a global label for the y-axis (Streamflow)\n",
    "fig.text(-0.05, 0.5, 'Spectral amplitude', fontsize=8, va='center', rotation='vertical')\n",
    "# Add a global label for the x-axis (Times)\n",
    "fig.text(0.5, 0.075, 'Frequency (Hz)', fontsize=8, ha='center')\n",
    "# Remove spaces between plots by adjusting subplots layout\n",
    "plt.subplots_adjust(hspace=0.2)\n",
    "# Show the figure\n",
    "plt.show()"
   ]
  },
  {
   "cell_type": "code",
   "execution_count": null,
   "id": "fdf9a769",
   "metadata": {},
   "outputs": [],
   "source": [
    "final_dataframe = pd.DataFrame()\n",
    "for i in range(K):\n",
    "    a = u[i, :]  # \n",
    "    dataframe = pd.DataFrame({'v{}'.format(i+1): a})  # \n",
    "    final_dataframe = pd.concat([final_dataframe, dataframe], axis=1)  #\n",
    "\n",
    "# save\n",
    "final_dataframe.to_csv(\"\\VMD_ShenYang.csv\", index=False, sep=',')"
   ]
  }
 ],
 "metadata": {
  "kernelspec": {
   "display_name": "Python 3",
   "language": "python",
   "name": "python3"
  },
  "language_info": {
   "codemirror_mode": {
    "name": "ipython",
    "version": 3
   },
   "file_extension": ".py",
   "mimetype": "text/x-python",
   "name": "python",
   "nbconvert_exporter": "python",
   "pygments_lexer": "ipython3",
   "version": "3.11.7"
  }
 },
 "nbformat": 4,
 "nbformat_minor": 5
}
