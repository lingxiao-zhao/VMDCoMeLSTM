{
 "cells": [
  {
   "cell_type": "code",
   "execution_count": 2,
   "metadata": {},
   "outputs": [],
   "source": [
    "import pandas as pd\n",
    "import os\n",
    "# Set the directory containing the Excel files\n",
    "directory = r\"D:\\Data\\GSOD\\LiaoHe\\SHENYANG\"\n",
    "# Function to merge Excel files between two years\n",
    "def merge_data(start_year, end_year, output_file):\n",
    "    # Create an empty list to store DataFrames\n",
    "    df_list = []\n",
    "    # Loop through the specified years\n",
    "    for year in range(start_year, end_year + 1):\n",
    "        # Create the filename for the current year\n",
    "        file_path = os.path.join(directory, f\"54342099999_{year}.csv\")\n",
    "        # Read the csv file\n",
    "        df = pd.read_csv(file_path)\n",
    "        # Append the DataFrame to the list\n",
    "        df_list.append(df)\n",
    "    # Concatenate all DataFrames in the list\n",
    "    merged_df = pd.concat(df_list, ignore_index=True)\n",
    "    # Save the merged DataFrame to an Excel file\n",
    "    merged_df.to_excel(output_file, index=False)\n",
    "# Input the start and end years\n",
    "start_year = 1990  # Replace with desired start year\n",
    "end_year = 2022    # Replace with desired end year\n",
    "# Output file path\n",
    "output_file = r\"D:\\Data\\GSOD\\LiaoHe\\meteorology_merged_data.xlsx\"\n",
    "# Merge data and save the result\n",
    "merge_data(start_year, end_year, output_file)\n"
   ]
  },
  {
   "cell_type": "code",
   "execution_count": null,
   "metadata": {},
   "outputs": [],
   "source": []
  }
 ],
 "metadata": {
  "kernelspec": {
   "display_name": "base",
   "language": "python",
   "name": "python3"
  },
  "language_info": {
   "codemirror_mode": {
    "name": "ipython",
    "version": 3
   },
   "file_extension": ".py",
   "mimetype": "text/x-python",
   "name": "python",
   "nbconvert_exporter": "python",
   "pygments_lexer": "ipython3",
   "version": "3.11.7"
  }
 },
 "nbformat": 4,
 "nbformat_minor": 2
}
